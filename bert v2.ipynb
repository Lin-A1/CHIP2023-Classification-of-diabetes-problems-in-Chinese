{
 "cells": [
  {
   "cell_type": "code",
   "execution_count": null,
   "id": "7ad5f291-3091-4fc7-82b7-7d25443ef013",
   "metadata": {},
   "outputs": [],
   "source": [
    "import torch\n",
    "import pandas as pd\n",
    "from transformers import BertTokenizer, BertForSequenceClassification\n",
    "from torch.utils.data import DataLoader, TensorDataset\n",
    "from sklearn.model_selection import train_test_split\n",
    "from sklearn.metrics import classification_report\n",
    "import re\n",
    "\n",
    "# 检查是否有可用的GPU\n",
    "device = torch.device(\"cuda\" if torch.cuda.is_available() else \"cpu\")"
   ]
  },
  {
   "cell_type": "code",
   "execution_count": null,
   "id": "c3570ecb-05fd-458e-af32-972b0a6bcfc8",
   "metadata": {
    "collapsed": true,
    "jupyter": {
     "outputs_hidden": true
    },
    "tags": []
   },
   "outputs": [
    {
     "name": "stderr",
     "output_type": "stream",
     "text": [
      "You are using a model of type ernie to instantiate a model of type bert. This is not supported for all configurations of models and can yield errors.\n",
      "Some weights of BertForSequenceClassification were not initialized from the model checkpoint at model/ernie-1.0 and are newly initialized: ['encoder.layer.5.output.LayerNorm.bias', 'encoder.layer.10.output.LayerNorm.weight', 'encoder.layer.3.attention.self.key.bias', 'encoder.layer.6.attention.self.query.weight', 'embeddings.token_type_embeddings.weight', 'encoder.layer.5.output.dense.weight', 'encoder.layer.3.output.LayerNorm.bias', 'encoder.layer.7.attention.self.key.bias', 'encoder.layer.4.attention.output.dense.bias', 'encoder.layer.1.attention.output.LayerNorm.weight', 'encoder.layer.9.output.LayerNorm.weight', 'encoder.layer.2.attention.self.key.weight', 'encoder.layer.4.attention.self.query.weight', 'encoder.layer.11.intermediate.dense.bias', 'encoder.layer.6.attention.output.dense.bias', 'encoder.layer.9.attention.self.value.bias', 'encoder.layer.7.attention.self.key.weight', 'encoder.layer.2.attention.output.dense.weight', 'encoder.layer.3.output.dense.weight', 'encoder.layer.9.intermediate.dense.bias', 'encoder.layer.9.attention.self.value.weight', 'encoder.layer.5.attention.self.key.weight', 'encoder.layer.8.intermediate.dense.weight', 'encoder.layer.8.intermediate.dense.bias', 'encoder.layer.8.attention.output.LayerNorm.bias', 'encoder.layer.5.attention.output.LayerNorm.weight', 'encoder.layer.0.output.LayerNorm.weight', 'encoder.layer.9.attention.output.dense.bias', 'encoder.layer.1.output.LayerNorm.weight', 'encoder.layer.7.attention.self.value.bias', 'encoder.layer.8.output.dense.weight', 'encoder.layer.1.attention.output.dense.weight', 'encoder.layer.6.attention.self.key.weight', 'encoder.layer.1.intermediate.dense.bias', 'encoder.layer.6.intermediate.dense.weight', 'encoder.layer.8.output.LayerNorm.weight', 'encoder.layer.11.intermediate.dense.weight', 'encoder.layer.11.attention.self.key.bias', 'classifier.weight', 'encoder.layer.2.intermediate.dense.weight', 'encoder.layer.4.output.dense.weight', 'encoder.layer.10.attention.self.query.bias', 'pooler.dense.bias', 'encoder.layer.6.attention.self.query.bias', 'encoder.layer.0.attention.self.key.weight', 'encoder.layer.11.output.LayerNorm.weight', 'encoder.layer.4.intermediate.dense.weight', 'encoder.layer.3.output.LayerNorm.weight', 'encoder.layer.10.attention.output.dense.weight', 'encoder.layer.0.attention.self.value.bias', 'encoder.layer.4.attention.output.LayerNorm.weight', 'encoder.layer.8.attention.output.dense.weight', 'encoder.layer.3.intermediate.dense.weight', 'encoder.layer.3.intermediate.dense.bias', 'encoder.layer.1.attention.self.value.weight', 'encoder.layer.7.attention.output.dense.bias', 'encoder.layer.7.intermediate.dense.bias', 'encoder.layer.10.attention.output.LayerNorm.weight', 'encoder.layer.1.output.dense.bias', 'encoder.layer.2.output.dense.bias', 'encoder.layer.3.attention.self.query.bias', 'encoder.layer.9.intermediate.dense.weight', 'encoder.layer.2.attention.self.key.bias', 'encoder.layer.1.attention.self.key.bias', 'encoder.layer.4.attention.self.query.bias', 'encoder.layer.7.output.LayerNorm.bias', 'encoder.layer.3.attention.output.LayerNorm.weight', 'encoder.layer.8.output.dense.bias', 'encoder.layer.5.attention.output.dense.weight', 'embeddings.word_embeddings.weight', 'encoder.layer.9.attention.output.dense.weight', 'encoder.layer.0.intermediate.dense.weight', 'encoder.layer.4.attention.self.key.weight', 'encoder.layer.8.attention.self.value.bias', 'encoder.layer.11.attention.self.value.bias', 'encoder.layer.7.attention.self.query.weight', 'encoder.layer.8.attention.self.key.bias', 'encoder.layer.10.output.dense.weight', 'pooler.dense.weight', 'encoder.layer.4.output.LayerNorm.weight', 'encoder.layer.3.attention.self.value.bias', 'encoder.layer.0.attention.output.dense.weight', 'encoder.layer.4.attention.self.key.bias', 'encoder.layer.4.attention.self.value.bias', 'encoder.layer.3.attention.self.key.weight', 'encoder.layer.2.output.LayerNorm.weight', 'encoder.layer.10.intermediate.dense.bias', 'encoder.layer.1.output.dense.weight', 'encoder.layer.7.attention.self.value.weight', 'encoder.layer.10.attention.self.query.weight', 'encoder.layer.1.output.LayerNorm.bias', 'encoder.layer.10.attention.self.value.weight', 'encoder.layer.11.attention.output.dense.bias', 'encoder.layer.6.attention.self.key.bias', 'embeddings.LayerNorm.bias', 'encoder.layer.5.attention.self.key.bias', 'encoder.layer.11.output.dense.weight', 'encoder.layer.5.output.LayerNorm.weight', 'encoder.layer.8.attention.output.LayerNorm.weight', 'encoder.layer.5.attention.self.query.weight', 'encoder.layer.0.intermediate.dense.bias', 'encoder.layer.6.output.LayerNorm.weight', 'encoder.layer.8.attention.self.query.bias', 'encoder.layer.7.output.dense.weight', 'classifier.bias', 'encoder.layer.3.output.dense.bias', 'encoder.layer.11.attention.self.query.bias', 'encoder.layer.0.attention.output.LayerNorm.weight', 'encoder.layer.2.attention.self.value.bias', 'encoder.layer.7.output.dense.bias', 'encoder.layer.5.intermediate.dense.bias', 'encoder.layer.2.output.LayerNorm.bias', 'encoder.layer.6.attention.output.dense.weight', 'encoder.layer.5.attention.output.dense.bias', 'encoder.layer.2.attention.self.query.weight', 'encoder.layer.9.attention.self.query.weight', 'encoder.layer.8.output.LayerNorm.bias', 'encoder.layer.5.output.dense.bias', 'encoder.layer.7.attention.output.LayerNorm.weight', 'encoder.layer.9.attention.self.key.weight', 'encoder.layer.11.attention.output.LayerNorm.weight', 'encoder.layer.11.output.LayerNorm.bias', 'encoder.layer.0.attention.self.key.bias', 'encoder.layer.1.attention.self.key.weight', 'encoder.layer.8.attention.output.dense.bias', 'encoder.layer.6.output.dense.bias', 'encoder.layer.9.attention.self.key.bias', 'encoder.layer.6.output.dense.weight', 'encoder.layer.5.attention.self.query.bias', 'encoder.layer.4.attention.output.dense.weight', 'encoder.layer.3.attention.output.dense.weight', 'encoder.layer.2.attention.self.value.weight', 'encoder.layer.5.attention.self.value.bias', 'encoder.layer.0.attention.self.query.bias', 'encoder.layer.2.attention.output.dense.bias', 'encoder.layer.2.attention.output.LayerNorm.weight', 'encoder.layer.10.output.dense.bias', 'encoder.layer.5.attention.self.value.weight', 'encoder.layer.7.attention.output.dense.weight', 'encoder.layer.0.output.LayerNorm.bias', 'encoder.layer.7.attention.output.LayerNorm.bias', 'encoder.layer.8.attention.self.query.weight', 'encoder.layer.2.output.dense.weight', 'encoder.layer.3.attention.output.dense.bias', 'encoder.layer.10.attention.output.dense.bias', 'encoder.layer.1.attention.self.query.weight', 'encoder.layer.0.output.dense.bias', 'encoder.layer.10.intermediate.dense.weight', 'encoder.layer.0.attention.self.value.weight', 'encoder.layer.11.attention.self.key.weight', 'encoder.layer.4.output.LayerNorm.bias', 'embeddings.LayerNorm.weight', 'encoder.layer.4.attention.self.value.weight', 'encoder.layer.3.attention.output.LayerNorm.bias', 'encoder.layer.6.attention.output.LayerNorm.bias', 'encoder.layer.9.output.dense.bias', 'encoder.layer.6.intermediate.dense.bias', 'encoder.layer.5.intermediate.dense.weight', 'encoder.layer.6.attention.self.value.bias', 'embeddings.position_embeddings.weight', 'encoder.layer.9.attention.output.LayerNorm.weight', 'encoder.layer.11.attention.self.value.weight', 'encoder.layer.2.intermediate.dense.bias', 'encoder.layer.6.output.LayerNorm.bias', 'encoder.layer.10.attention.self.key.bias', 'encoder.layer.2.attention.output.LayerNorm.bias', 'encoder.layer.4.intermediate.dense.bias', 'encoder.layer.9.attention.output.LayerNorm.bias', 'encoder.layer.11.attention.output.dense.weight', 'encoder.layer.2.attention.self.query.bias', 'encoder.layer.5.attention.output.LayerNorm.bias', 'encoder.layer.11.output.dense.bias', 'encoder.layer.3.attention.self.query.weight', 'encoder.layer.0.output.dense.weight', 'encoder.layer.11.attention.self.query.weight', 'encoder.layer.0.attention.output.dense.bias', 'encoder.layer.7.attention.self.query.bias', 'encoder.layer.1.intermediate.dense.weight', 'encoder.layer.9.attention.self.query.bias', 'encoder.layer.0.attention.self.query.weight', 'encoder.layer.3.attention.self.value.weight', 'encoder.layer.8.attention.self.value.weight', 'encoder.layer.7.intermediate.dense.weight', 'encoder.layer.1.attention.output.dense.bias', 'encoder.layer.9.output.dense.weight', 'encoder.layer.6.attention.self.value.weight', 'encoder.layer.7.output.LayerNorm.weight', 'encoder.layer.10.output.LayerNorm.bias', 'encoder.layer.1.attention.output.LayerNorm.bias', 'encoder.layer.4.output.dense.bias', 'encoder.layer.1.attention.self.query.bias', 'encoder.layer.9.output.LayerNorm.bias', 'encoder.layer.10.attention.self.value.bias', 'encoder.layer.4.attention.output.LayerNorm.bias', 'encoder.layer.10.attention.self.key.weight', 'encoder.layer.0.attention.output.LayerNorm.bias', 'encoder.layer.10.attention.output.LayerNorm.bias', 'encoder.layer.11.attention.output.LayerNorm.bias', 'encoder.layer.1.attention.self.value.bias', 'encoder.layer.6.attention.output.LayerNorm.weight', 'encoder.layer.8.attention.self.key.weight']\n",
      "You should probably TRAIN this model on a down-stream task to be able to use it for predictions and inference.\n"
     ]
    }
   ],
   "source": [
    "# 加载BERT模型和tokenizer，并将它们移动到GPU上\n",
    "tokenizer = BertTokenizer.from_pretrained(\"model/bret_base_chinese/tokenizer\")\n",
    "model = BertForSequenceClassification.from_pretrained(\"model/bret_base_chinese/model\", num_labels=5)\n",
    "model.to(device)\n",
    "# 数据预处理\n",
    "MAX_LEN = 64"
   ]
  },
  {
   "cell_type": "code",
   "execution_count": null,
   "id": "49568008-1e83-4f25-82a6-44cea30494d3",
   "metadata": {},
   "outputs": [],
   "source": [
    "def preprocess_data(df, tokenizer, max_len):\n",
    "    input_ids = []\n",
    "    attention_masks = []\n",
    "    labels = []\n",
    "\n",
    "    for index, row in df.iterrows():\n",
    "        text = row[0]\n",
    "        label = row[1]\n",
    "\n",
    "        inputs = tokenizer.encode_plus(\n",
    "            text,\n",
    "            add_special_tokens=True,\n",
    "            max_length=max_len,\n",
    "            padding='max_length',\n",
    "            truncation=True,\n",
    "            return_tensors='pt'\n",
    "        )\n",
    "\n",
    "        input_ids.append(inputs['input_ids'])\n",
    "        attention_masks.append(inputs['attention_mask'])\n",
    "        labels.append(label)\n",
    "\n",
    "    input_ids = torch.cat(input_ids, dim=0).to(device)\n",
    "    attention_masks = torch.cat(attention_masks, dim=0).to(device)\n",
    "    labels = torch.tensor(labels, dtype=torch.long).to(device)\n",
    "\n",
    "    return input_ids, attention_masks, labels"
   ]
  },
  {
   "cell_type": "code",
   "execution_count": null,
   "id": "db6918ae-a059-4c95-a28c-064d46c2578e",
   "metadata": {},
   "outputs": [],
   "source": [
    "# 准备训练数据和验证数据\n",
    "train_df = pd.read_table('input/train.txt', header=None)\n",
    "dev_df = pd.read_table('input/dev.txt', header=None)\n",
    "\n",
    "train_df = train_df[train_df[1] != 5]\n",
    "dev_df = dev_df[dev_df[1] != 5]\n",
    "train_input_ids, train_attention_masks, train_labels = preprocess_data(train_df, tokenizer, MAX_LEN)\n",
    "dev_input_ids, dev_attention_masks, dev_labels = preprocess_data(dev_df, tokenizer, MAX_LEN)\n",
    "\n",
    "# 创建TensorDataset和DataLoader\n",
    "train_dataset = TensorDataset(train_input_ids, train_attention_masks, train_labels)\n",
    "dev_dataset = TensorDataset(dev_input_ids, dev_attention_masks, dev_labels)\n",
    "\n",
    "train_batch_size = 128\n",
    "dev_batch_size = 32\n",
    "\n",
    "train_dataloader = DataLoader(train_dataset, batch_size=train_batch_size, shuffle=True)\n",
    "dev_dataloader = DataLoader(dev_dataset, batch_size=dev_batch_size)"
   ]
  },
  {
   "cell_type": "code",
   "execution_count": null,
   "id": "69c40477-233d-4c17-bc09-aab486ab0576",
   "metadata": {},
   "outputs": [
    {
     "name": "stdout",
     "output_type": "stream",
     "text": [
      "Epoch 1/7, Average Loss: 1.4475\tTest_Accuracy: 61.02%\n",
      "Epoch 2/7, Average Loss: 0.9417\tTest_Accuracy: 70.66%\n",
      "Epoch 3/7, Average Loss: 0.6711\tTest_Accuracy: 78.28%\n",
      "Epoch 4/7, Average Loss: 0.5483\tTest_Accuracy: 79.34%\n",
      "Epoch 5/7, Average Loss: 0.4781\tTest_Accuracy: 82.84%\n",
      "Epoch 6/7, Average Loss: 0.4343\tTest_Accuracy: 83.58%\n",
      "Epoch 7/7, Average Loss: 0.3832\tTest_Accuracy: 83.58%\n"
     ]
    }
   ],
   "source": [
    "# 定义优化器和损失函数\n",
    "# optimizer = torch.optim.AdamW(model.parameters(), lr=2e-5)\n",
    "optimizer = torch.optim.Adam(model.parameters(), lr=1e-5)\n",
    "loss_fn = torch.nn.CrossEntropyLoss()\n",
    "\n",
    "# 训练模型\n",
    "num_epochs = 7\n",
    "\n",
    "for epoch in range(num_epochs):\n",
    "    model.train()\n",
    "    total_loss = 0\n",
    "\n",
    "    for batch in train_dataloader:\n",
    "        input_ids, attention_mask, labels = batch\n",
    "        optimizer.zero_grad()\n",
    "\n",
    "        outputs = model(input_ids, attention_mask=attention_mask, labels=labels)\n",
    "        loss = outputs.loss\n",
    "        loss.backward()\n",
    "        optimizer.step()\n",
    "        total_loss += loss.item()\n",
    "\n",
    "    avg_loss = total_loss / len(train_dataloader)\n",
    "    print(f\"Epoch {epoch + 1}/{num_epochs}, Average Loss: {avg_loss:.4f}\",end='\\t')\n",
    "\n",
    "    # 在验证集上评估模型性能\n",
    "    model.eval()\n",
    "    val_preds = []\n",
    "    val_labels = []\n",
    "\n",
    "    for batch in dev_dataloader:\n",
    "        input_ids, attention_mask, labels = batch\n",
    "        with torch.no_grad():\n",
    "            outputs = model(input_ids, attention_mask=attention_mask, labels=labels)\n",
    "\n",
    "        logits = outputs.logits  \n",
    "        val_preds.extend(logits.argmax(dim=1).tolist())\n",
    "        val_labels.extend(labels.tolist())\n",
    "\n",
    "    correct_predictions = [1 if p == t else 0 for p, t in zip(val_preds, val_labels)]\n",
    "    accuracy = sum(correct_predictions) / len(correct_predictions)\n",
    "    print(f'Test_Accuracy: {accuracy * 100:.2f}%')"
   ]
  },
  {
   "cell_type": "code",
   "execution_count": null,
   "id": "2fc279ca-5f58-4db0-9445-108d5c36a90f",
   "metadata": {},
   "outputs": [
    {
     "name": "stdout",
     "output_type": "stream",
     "text": [
      "Accuracy: 78.90%\n"
     ]
    }
   ],
   "source": [
    "test_df = pd.read_table('input/dev.txt', header=None)\n",
    "\n",
    "# 数据预处理\n",
    "test_input_ids, test_attention_masks, _ = preprocess_data(test_df, tokenizer, MAX_LEN)\n",
    "\n",
    "# 创建 DataLoader\n",
    "test_dataset = TensorDataset(test_input_ids, test_attention_masks)\n",
    "test_batch_size = 64\n",
    "test_dataloader = DataLoader(test_dataset, batch_size=test_batch_size)\n",
    "\n",
    "# 将模型设置为评估模式\n",
    "model.eval()\n",
    "\n",
    "# 存储预测结果\n",
    "predictions = []\n",
    "\n",
    "# 遍历测试数据并进行预测\n",
    "for batch in test_dataloader:\n",
    "    input_ids, attention_mask = batch\n",
    "    input_ids = input_ids.to(device)\n",
    "    attention_mask = attention_mask.to(device)\n",
    "    with torch.no_grad():\n",
    "        outputs = model(input_ids, attention_mask=attention_mask)\n",
    "\n",
    "    logits = outputs.logits\n",
    "    probabilities = torch.softmax(logits, dim=1)  # 计算概率分布\n",
    "    predicted_labels = probabilities.tolist()\n",
    "    predictions.extend(predicted_labels)\n",
    "\n",
    "# 输出概率分布和对应的分类标签\n",
    "predicted_labels = [probs.index(max(probs)) for probs in predictions]\n",
    "predicted_probabilities = [max(probs) for probs in predictions]\n",
    "\n",
    "true_labels = test_df[1]\n",
    "\n",
    "# 计算准确度\n",
    "correct_predictions = [1 if p == t else 0 for p, t in zip(predicted_labels, true_labels)]\n",
    "accuracy = sum(correct_predictions) / len(correct_predictions)\n",
    "print(f'Accuracy: {accuracy * 100:.2f}%')"
   ]
  },
  {
   "cell_type": "code",
   "execution_count": null,
   "id": "69a59ac8-8218-476e-80d9-a2b4980067c7",
   "metadata": {},
   "outputs": [
    {
     "name": "stdout",
     "output_type": "stream",
     "text": [
      "0.48 0.79\n"
     ]
    }
   ],
   "source": [
    "true_labels = test_df[1]\n",
    "best_predicted = []\n",
    "best_threshold = 0\n",
    "best_acc = 0\n",
    "\n",
    "for i in range(100):\n",
    "    predicted = predicted_labels.copy()\n",
    "    threshold = i/100\n",
    "    predicted = [5 if prob < threshold else label for label, prob in zip(predicted, predicted_probabilities)]\n",
    "\n",
    "    correct_predictions = [1 if p == t else 0 for p, t in zip(predicted, true_labels)]\n",
    "    accuracy = sum(correct_predictions) / len(correct_predictions)\n",
    "\n",
    "    if accuracy > best_acc:\n",
    "        best_acc = accuracy\n",
    "        best_predicted = predicted\n",
    "        best_threshold = threshold\n",
    "        \n",
    "print(best_threshold,best_acc)"
   ]
  },
  {
   "cell_type": "code",
   "execution_count": null,
   "id": "3fc08109-b2c8-4a59-8c31-bac5415120ff",
   "metadata": {},
   "outputs": [],
   "source": []
  }
 ],
 "metadata": {
  "kernelspec": {
   "display_name": "torch",
   "language": "python",
   "name": "torch"
  },
  "language_info": {
   "codemirror_mode": {
    "name": "ipython",
    "version": 3
   },
   "file_extension": ".py",
   "mimetype": "text/x-python",
   "name": "python",
   "nbconvert_exporter": "python",
   "pygments_lexer": "ipython3",
   "version": "3.9.12"
  }
 },
 "nbformat": 4,
 "nbformat_minor": 5
}
