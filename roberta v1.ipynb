{
 "cells": [
  {
   "cell_type": "code",
   "execution_count": 2,
   "id": "7cf8ea5c-5ef4-4468-bdd5-a7bb6eb703f2",
   "metadata": {},
   "outputs": [],
   "source": [
    "import torch\n",
    "import pandas as pd\n",
    "from transformers import BertTokenizer, BertForSequenceClassification\n",
    "from torch.utils.data import DataLoader, TensorDataset\n",
    "from sklearn.model_selection import train_test_split\n",
    "from sklearn.metrics import classification_report\n",
    "import re\n",
    "\n",
    "# 检查是否有可用的GPU\n",
    "device = torch.device(\"cuda\" if torch.cuda.is_available() else \"cpu\")"
   ]
  },
  {
   "cell_type": "code",
   "execution_count": 3,
   "id": "e318f358-3aed-4408-8dde-ee4c4cc82527",
   "metadata": {},
   "outputs": [
    {
     "name": "stderr",
     "output_type": "stream",
     "text": [
      "Some weights of BertForSequenceClassification were not initialized from the model checkpoint at model/roberta/model and are newly initialized: ['classifier.weight', 'classifier.bias']\n",
      "You should probably TRAIN this model on a down-stream task to be able to use it for predictions and inference.\n"
     ]
    }
   ],
   "source": [
    "# 加载BERT模型和tokenizer，并将它们移动到GPU上\n",
    "tokenizer = BertTokenizer.from_pretrained(\"model/roberta/tokenizer\")\n",
    "model = BertForSequenceClassification.from_pretrained(\"model/roberta/model\",num_labels=6).to(device)\n",
    "\n",
    "# # 冻结BERT模型参数\n",
    "# for param in model.parameters():\n",
    "#     param.requires_grad_(False)\n",
    "\n",
    "# # 解冻部分BERT模型参数\n",
    "# for param in model.bert.encoder.layer[-3:].parameters():\n",
    "#     param.requires_grad_(True)"
   ]
  },
  {
   "cell_type": "code",
   "execution_count": 3,
   "id": "b1cc2e6f-6b54-4f98-8e10-be11e8559ba4",
   "metadata": {},
   "outputs": [],
   "source": [
    "# 数据预处理\n",
    "MAX_LEN = 64\n",
    "\n",
    "def preprocess_data(df, tokenizer, max_len):\n",
    "    input_ids = []\n",
    "    attention_masks = []\n",
    "    labels = []\n",
    "\n",
    "    def clean_text(text):\n",
    "        # 只删除数字\n",
    "        cleaned_text = re.sub(r'\\d', '', text)\n",
    "        return cleaned_text\n",
    "    \n",
    "    for index, row in df.iterrows():\n",
    "        text = row[0]\n",
    "        # text = clean_text(text)        \n",
    "        label = row[1]\n",
    "        \n",
    "        inputs = tokenizer.encode_plus(\n",
    "            text,\n",
    "            add_special_tokens=True,\n",
    "            max_length=max_len,\n",
    "            padding='max_length',\n",
    "            truncation=True,\n",
    "            return_tensors='pt'\n",
    "        )\n",
    "\n",
    "        input_ids.append(inputs['input_ids'])\n",
    "        attention_masks.append(inputs['attention_mask'])\n",
    "        labels.append(label)\n",
    "\n",
    "    input_ids = torch.cat(input_ids, dim=0).to(device)\n",
    "    attention_masks = torch.cat(attention_masks, dim=0).to(device)\n",
    "    labels = torch.tensor(labels, dtype=torch.long).to(device)\n",
    "\n",
    "    return input_ids, attention_masks, labels\n"
   ]
  },
  {
   "cell_type": "code",
   "execution_count": 4,
   "id": "48922bef-f596-453f-a14e-81a5da2e2082",
   "metadata": {},
   "outputs": [],
   "source": [
    "# 准备训练数据和验证数据\n",
    "train_df = pd.read_table('input/train.txt',header=None)\n",
    "dev_df = pd.read_table('input/dev.txt',header=None)\n",
    "\n",
    "train_input_ids, train_attention_masks, train_labels = preprocess_data(train_df, tokenizer, MAX_LEN)\n",
    "dev_input_ids, dev_attention_masks, dev_labels = preprocess_data(dev_df, tokenizer, MAX_LEN)\n",
    "\n",
    "# 创建TensorDataset和DataLoader\n",
    "train_dataset = TensorDataset(train_input_ids, train_attention_masks, train_labels)\n",
    "dev_dataset = TensorDataset(dev_input_ids, dev_attention_masks, dev_labels)\n",
    "\n",
    "train_batch_size = 32\n",
    "dev_batch_size = 64\n",
    "\n",
    "train_dataloader = DataLoader(train_dataset, batch_size=train_batch_size, shuffle=True)\n",
    "dev_dataloader = DataLoader(dev_dataset, batch_size=dev_batch_size)"
   ]
  },
  {
   "cell_type": "code",
   "execution_count": 5,
   "id": "0d8b629c-4606-4f79-9fc0-98a824c5a21b",
   "metadata": {
    "collapsed": true,
    "jupyter": {
     "outputs_hidden": true
    },
    "tags": []
   },
   "outputs": [
    {
     "name": "stdout",
     "output_type": "stream",
     "text": [
      "Epoch 1/20, Average Loss: 0.5569\tTest_Accuracy: 86.40%\n",
      "Epoch 2/20, Average Loss: 0.2852\tTest_Accuracy: 85.70%\n",
      "Epoch 3/20, Average Loss: 0.1848\tTest_Accuracy: 86.70%\n",
      "Epoch 4/20, Average Loss: 0.1272\tTest_Accuracy: 85.30%\n",
      "Epoch 5/20, Average Loss: 0.0868\tTest_Accuracy: 85.30%\n",
      "Epoch 6/20, Average Loss: 0.0588\tTest_Accuracy: 86.50%\n",
      "Epoch 7/20, Average Loss: 0.0525\tTest_Accuracy: 86.10%\n",
      "Epoch 8/20, Average Loss: 0.0463\tTest_Accuracy: 85.40%\n",
      "Epoch 9/20, Average Loss: 0.0431\tTest_Accuracy: 85.50%\n",
      "Epoch 10/20, Average Loss: 0.0461\tTest_Accuracy: 85.80%\n",
      "Epoch 11/20, Average Loss: 0.0274\tTest_Accuracy: 87.10%\n",
      "Epoch 12/20, Average Loss: 0.0264\tTest_Accuracy: 86.20%\n",
      "Epoch 13/20, Average Loss: 0.0232\tTest_Accuracy: 85.40%\n",
      "Epoch 14/20, Average Loss: 0.0216\tTest_Accuracy: 86.60%\n"
     ]
    },
    {
     "ename": "KeyboardInterrupt",
     "evalue": "",
     "output_type": "error",
     "traceback": [
      "\u001b[1;31m---------------------------------------------------------------------------\u001b[0m",
      "\u001b[1;31mKeyboardInterrupt\u001b[0m                         Traceback (most recent call last)",
      "Cell \u001b[1;32mIn[5], line 18\u001b[0m\n\u001b[0;32m     16\u001b[0m outputs \u001b[38;5;241m=\u001b[39m model(input_ids, attention_mask\u001b[38;5;241m=\u001b[39mattention_mask, labels\u001b[38;5;241m=\u001b[39mlabels)\n\u001b[0;32m     17\u001b[0m loss \u001b[38;5;241m=\u001b[39m outputs\u001b[38;5;241m.\u001b[39mloss\n\u001b[1;32m---> 18\u001b[0m \u001b[43mloss\u001b[49m\u001b[38;5;241;43m.\u001b[39;49m\u001b[43mbackward\u001b[49m\u001b[43m(\u001b[49m\u001b[43m)\u001b[49m\n\u001b[0;32m     19\u001b[0m optimizer\u001b[38;5;241m.\u001b[39mstep()\n\u001b[0;32m     20\u001b[0m total_loss \u001b[38;5;241m+\u001b[39m\u001b[38;5;241m=\u001b[39m loss\u001b[38;5;241m.\u001b[39mitem()\n",
      "File \u001b[1;32mE:\\envs\\torch\\lib\\site-packages\\torch\\_tensor.py:492\u001b[0m, in \u001b[0;36mTensor.backward\u001b[1;34m(self, gradient, retain_graph, create_graph, inputs)\u001b[0m\n\u001b[0;32m    482\u001b[0m \u001b[38;5;28;01mif\u001b[39;00m has_torch_function_unary(\u001b[38;5;28mself\u001b[39m):\n\u001b[0;32m    483\u001b[0m     \u001b[38;5;28;01mreturn\u001b[39;00m handle_torch_function(\n\u001b[0;32m    484\u001b[0m         Tensor\u001b[38;5;241m.\u001b[39mbackward,\n\u001b[0;32m    485\u001b[0m         (\u001b[38;5;28mself\u001b[39m,),\n\u001b[1;32m   (...)\u001b[0m\n\u001b[0;32m    490\u001b[0m         inputs\u001b[38;5;241m=\u001b[39minputs,\n\u001b[0;32m    491\u001b[0m     )\n\u001b[1;32m--> 492\u001b[0m \u001b[43mtorch\u001b[49m\u001b[38;5;241;43m.\u001b[39;49m\u001b[43mautograd\u001b[49m\u001b[38;5;241;43m.\u001b[39;49m\u001b[43mbackward\u001b[49m\u001b[43m(\u001b[49m\n\u001b[0;32m    493\u001b[0m \u001b[43m    \u001b[49m\u001b[38;5;28;43mself\u001b[39;49m\u001b[43m,\u001b[49m\u001b[43m \u001b[49m\u001b[43mgradient\u001b[49m\u001b[43m,\u001b[49m\u001b[43m \u001b[49m\u001b[43mretain_graph\u001b[49m\u001b[43m,\u001b[49m\u001b[43m \u001b[49m\u001b[43mcreate_graph\u001b[49m\u001b[43m,\u001b[49m\u001b[43m \u001b[49m\u001b[43minputs\u001b[49m\u001b[38;5;241;43m=\u001b[39;49m\u001b[43minputs\u001b[49m\n\u001b[0;32m    494\u001b[0m \u001b[43m\u001b[49m\u001b[43m)\u001b[49m\n",
      "File \u001b[1;32mE:\\envs\\torch\\lib\\site-packages\\torch\\autograd\\__init__.py:251\u001b[0m, in \u001b[0;36mbackward\u001b[1;34m(tensors, grad_tensors, retain_graph, create_graph, grad_variables, inputs)\u001b[0m\n\u001b[0;32m    246\u001b[0m     retain_graph \u001b[38;5;241m=\u001b[39m create_graph\n\u001b[0;32m    248\u001b[0m \u001b[38;5;66;03m# The reason we repeat the same comment below is that\u001b[39;00m\n\u001b[0;32m    249\u001b[0m \u001b[38;5;66;03m# some Python versions print out the first line of a multi-line function\u001b[39;00m\n\u001b[0;32m    250\u001b[0m \u001b[38;5;66;03m# calls in the traceback and some print out the last line\u001b[39;00m\n\u001b[1;32m--> 251\u001b[0m \u001b[43mVariable\u001b[49m\u001b[38;5;241;43m.\u001b[39;49m\u001b[43m_execution_engine\u001b[49m\u001b[38;5;241;43m.\u001b[39;49m\u001b[43mrun_backward\u001b[49m\u001b[43m(\u001b[49m\u001b[43m  \u001b[49m\u001b[38;5;66;43;03m# Calls into the C++ engine to run the backward pass\u001b[39;49;00m\n\u001b[0;32m    252\u001b[0m \u001b[43m    \u001b[49m\u001b[43mtensors\u001b[49m\u001b[43m,\u001b[49m\n\u001b[0;32m    253\u001b[0m \u001b[43m    \u001b[49m\u001b[43mgrad_tensors_\u001b[49m\u001b[43m,\u001b[49m\n\u001b[0;32m    254\u001b[0m \u001b[43m    \u001b[49m\u001b[43mretain_graph\u001b[49m\u001b[43m,\u001b[49m\n\u001b[0;32m    255\u001b[0m \u001b[43m    \u001b[49m\u001b[43mcreate_graph\u001b[49m\u001b[43m,\u001b[49m\n\u001b[0;32m    256\u001b[0m \u001b[43m    \u001b[49m\u001b[43minputs\u001b[49m\u001b[43m,\u001b[49m\n\u001b[0;32m    257\u001b[0m \u001b[43m    \u001b[49m\u001b[43mallow_unreachable\u001b[49m\u001b[38;5;241;43m=\u001b[39;49m\u001b[38;5;28;43;01mTrue\u001b[39;49;00m\u001b[43m,\u001b[49m\n\u001b[0;32m    258\u001b[0m \u001b[43m    \u001b[49m\u001b[43maccumulate_grad\u001b[49m\u001b[38;5;241;43m=\u001b[39;49m\u001b[38;5;28;43;01mTrue\u001b[39;49;00m\u001b[43m,\u001b[49m\n\u001b[0;32m    259\u001b[0m \u001b[43m\u001b[49m\u001b[43m)\u001b[49m\n",
      "\u001b[1;31mKeyboardInterrupt\u001b[0m: "
     ]
    }
   ],
   "source": [
    "# 定义优化器和损失函数\n",
    "optimizer = torch.optim.AdamW(model.parameters(), lr=2e-5)\n",
    "loss_fn = torch.nn.CrossEntropyLoss()\n",
    "\n",
    "# 训练模型\n",
    "num_epochs = 20\n",
    "\n",
    "for epoch in range(num_epochs):\n",
    "    model.train()\n",
    "    total_loss = 0\n",
    "\n",
    "    for batch in train_dataloader:\n",
    "        input_ids, attention_mask, labels = batch\n",
    "        optimizer.zero_grad()\n",
    "\n",
    "        outputs = model(input_ids, attention_mask=attention_mask, labels=labels)\n",
    "        loss = outputs.loss\n",
    "        loss.backward()\n",
    "        optimizer.step()\n",
    "        total_loss += loss.item()\n",
    "\n",
    "    avg_loss = total_loss / len(train_dataloader)\n",
    "    print(f\"Epoch {epoch + 1}/{num_epochs}, Average Loss: {avg_loss:.4f}\",end='\\t')\n",
    "\n",
    "    # 在验证集上评估模型性能\n",
    "    model.eval()\n",
    "    val_preds = []\n",
    "    val_labels = []\n",
    "\n",
    "    for batch in dev_dataloader:\n",
    "        input_ids, attention_mask, labels = batch\n",
    "        with torch.no_grad():\n",
    "            outputs = model(input_ids, attention_mask=attention_mask, labels=labels)\n",
    "\n",
    "        logits = outputs.logits  \n",
    "        val_preds.extend(logits.argmax(dim=1).tolist())\n",
    "        val_labels.extend(labels.tolist())\n",
    "\n",
    "    correct_predictions = [1 if p == t else 0 for p, t in zip(val_preds, val_labels)]\n",
    "    accuracy = sum(correct_predictions) / len(correct_predictions)\n",
    "    print(f'Test_Accuracy: {accuracy * 100:.2f}%')"
   ]
  },
  {
   "cell_type": "code",
   "execution_count": null,
   "id": "8f77d21f-782c-4325-9ae1-507ba9f60e8d",
   "metadata": {},
   "outputs": [],
   "source": [
    "test_df = pd.read_table('input/dev.txt',header=None)\n",
    "\n",
    "# 数据预处理\n",
    "test_input_ids, test_attention_masks, _ = preprocess_data(test_df, tokenizer, MAX_LEN)\n",
    "\n",
    "# 创建 DataLoader\n",
    "test_dataset = TensorDataset(test_input_ids, test_attention_masks)\n",
    "test_batch_size = 64\n",
    "test_dataloader = DataLoader(test_dataset, batch_size=test_batch_size)\n",
    "\n",
    "# 将模型设置为评估模式\n",
    "model.eval()\n",
    "\n",
    "# 存储预测结果\n",
    "predictions = []\n",
    "\n",
    "# 遍历测试数据并进行预测\n",
    "for batch in test_dataloader:\n",
    "    input_ids, attention_mask = batch\n",
    "    input_ids = input_ids.to(device)\n",
    "    attention_mask = attention_mask.to(device)\n",
    "    with torch.no_grad():\n",
    "        outputs = model(input_ids, attention_mask=attention_mask)\n",
    "    \n",
    "    logits = outputs.logits\n",
    "    predicted_labels = logits.argmax(dim=1).tolist()\n",
    "    predictions.extend(predicted_labels)"
   ]
  },
  {
   "cell_type": "code",
   "execution_count": null,
   "id": "70928386-8452-4116-a9de-5e2539f81775",
   "metadata": {},
   "outputs": [],
   "source": [
    "true_labels = test_df[1]\n",
    "\n",
    "# 计算准确度\n",
    "correct_predictions = [1 if p == t else 0 for p, t in zip(predictions, true_labels)]\n",
    "accuracy = sum(correct_predictions) / len(correct_predictions)\n",
    "print(f'Accuracy: {accuracy * 100:.2f}%')"
   ]
  },
  {
   "cell_type": "code",
   "execution_count": null,
   "id": "04f73c35-c6dc-4dc7-9252-c093e7785e4c",
   "metadata": {},
   "outputs": [],
   "source": []
  }
 ],
 "metadata": {
  "kernelspec": {
   "display_name": "torch",
   "language": "python",
   "name": "torch"
  },
  "language_info": {
   "codemirror_mode": {
    "name": "ipython",
    "version": 3
   },
   "file_extension": ".py",
   "mimetype": "text/x-python",
   "name": "python",
   "nbconvert_exporter": "python",
   "pygments_lexer": "ipython3",
   "version": "3.9.12"
  }
 },
 "nbformat": 4,
 "nbformat_minor": 5
}
